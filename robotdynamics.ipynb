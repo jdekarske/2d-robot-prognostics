{
 "cells": [
  {
   "cell_type": "markdown",
   "source": [
    "# Robot Simulation\n",
    "This simulation is used for data generation for prognostic algorithm testing. The equations of motion are generated automatically using Kane's method via PyDy.\n",
    "\n",
    "A lot of the content here comes from [this](https://github.com/pydy/pydy-tutorial-human-standing) tutorial by Jason Moore but I'll leave out the learning and use different variable names."
   ],
   "metadata": {}
  },
  {
   "cell_type": "code",
   "execution_count": null,
   "source": [
    "from __future__ import print_function, division\n",
    "from sympy import symbols, simplify, pi\n",
    "from sympy.physics.mechanics import dynamicsymbols, ReferenceFrame, Point\n",
    "from sympy.physics.vector import init_vprinting\n",
    "from pydy.system import System\n",
    "import numpy as np\n",
    "init_vprinting(use_latex='mathjax', pretty_print=False)\n"
   ],
   "outputs": [],
   "metadata": {}
  },
  {
   "cell_type": "markdown",
   "source": [
    "# Reference Frames"
   ],
   "metadata": {}
  },
  {
   "cell_type": "code",
   "execution_count": null,
   "source": [
    "inertial_frame = ReferenceFrame('I')\n",
    "upper_arm_frame = ReferenceFrame('U')\n",
    "fore_arm_frame = ReferenceFrame('F')\n",
    "# theta1 - shoulder, theta2 - elbow\n",
    "theta1, theta2 = dynamicsymbols('theta1, theta2')\n"
   ],
   "outputs": [],
   "metadata": {}
  },
  {
   "cell_type": "code",
   "execution_count": null,
   "source": [
    "upper_arm_frame.orient(inertial_frame, 'Axis', (theta1, inertial_frame.z))\n",
    "fore_arm_frame.orient(upper_arm_frame, 'Axis', (theta2, upper_arm_frame.z))"
   ],
   "outputs": [],
   "metadata": {}
  },
  {
   "cell_type": "markdown",
   "source": [
    "# Points"
   ],
   "metadata": {}
  },
  {
   "cell_type": "code",
   "execution_count": null,
   "source": [
    "# Joints\n",
    "shoulder = Point('S')\n",
    "upper_arm_length = symbols('l_U')\n",
    "\n",
    "elbow = Point('E')\n",
    "elbow.set_pos(shoulder, upper_arm_length * upper_arm_frame.y)\n",
    "\n",
    "end_effector = Point('EE')\n",
    "fore_arm_length = symbols('l_F')\n",
    "end_effector.set_pos(elbow, fore_arm_length * fore_arm_frame.y)\n",
    "end_effector.pos_from(shoulder)\n"
   ],
   "outputs": [],
   "metadata": {}
  },
  {
   "cell_type": "code",
   "execution_count": null,
   "source": [
    "# Center of Masses\n",
    "upper_arm_com_length, fore_arm_com_length = symbols('d_U, d_F')\n",
    "\n",
    "upper_arm_mass_center = Point('U_o')\n",
    "upper_arm_mass_center.set_pos(shoulder, upper_arm_com_length * upper_arm_frame.y)\n",
    "\n",
    "fore_arm_mass_center = Point('F_o')\n",
    "fore_arm_mass_center.set_pos(elbow, fore_arm_com_length * fore_arm_frame.y)\n",
    "fore_arm_mass_center.pos_from(shoulder)\n"
   ],
   "outputs": [],
   "metadata": {}
  },
  {
   "cell_type": "markdown",
   "source": [
    "# Kinematical Differential Equations"
   ],
   "metadata": {}
  },
  {
   "cell_type": "code",
   "execution_count": null,
   "source": [
    "# the generalized speeds are the angular velocities of the joints\n",
    "omega1, omega2 = dynamicsymbols('omega1, omega2')\n",
    "\n",
    "kinematical_differential_equations = [omega1 - theta1.diff(),\n",
    "                                      omega2 - theta2.diff()]\n",
    "kinematical_differential_equations\n"
   ],
   "outputs": [],
   "metadata": {}
  },
  {
   "cell_type": "markdown",
   "source": [
    "# Velocities"
   ],
   "metadata": {}
  },
  {
   "cell_type": "code",
   "execution_count": null,
   "source": [
    "upper_arm_frame.set_ang_vel(inertial_frame, omega1 * inertial_frame.z)\n",
    "fore_arm_frame.set_ang_vel(upper_arm_frame, omega2 * upper_arm_frame.z)\n",
    "fore_arm_frame.ang_vel_in(inertial_frame)\n"
   ],
   "outputs": [],
   "metadata": {}
  },
  {
   "cell_type": "code",
   "execution_count": null,
   "source": [
    "shoulder.set_vel(inertial_frame, 0)\n",
    "upper_arm_mass_center.v2pt_theory(shoulder, inertial_frame, upper_arm_frame)\n",
    "\n",
    "elbow.v2pt_theory(shoulder, inertial_frame, upper_arm_frame)\n",
    "\n",
    "fore_arm_mass_center.v2pt_theory(elbow, inertial_frame, fore_arm_frame)\n",
    "\n",
    "end_effector.v2pt_theory(elbow, inertial_frame, fore_arm_frame)\n"
   ],
   "outputs": [],
   "metadata": {}
  },
  {
   "cell_type": "markdown",
   "source": [
    "# Inertia"
   ],
   "metadata": {}
  },
  {
   "cell_type": "code",
   "execution_count": null,
   "source": [
    "from sympy.physics.mechanics import inertia, RigidBody\n",
    "\n",
    "# Mass\n",
    "upper_arm_mass, fore_arm_mass = symbols('m_U, m_F')\n",
    "\n",
    "# Inertia\n",
    "upper_arm_inertia, fore_arm_inertia = symbols('I_Uz, I_Fz')\n",
    "\n",
    "upper_arm_inertia_dyadic = inertia(upper_arm_frame, 0, 0, upper_arm_inertia)\n",
    "\n",
    "upper_arm_central_inertia = (upper_arm_inertia_dyadic, upper_arm_mass_center)\n",
    "\n",
    "fore_arm_inertia_dyadic = inertia(fore_arm_frame, 0, 0, fore_arm_inertia)\n",
    "\n",
    "fore_arm_central_inertia = (fore_arm_inertia_dyadic, fore_arm_mass_center)\n",
    "\n",
    "# rigid bodies\n",
    "upper_arm = RigidBody('Upper Arm', upper_arm_mass_center, upper_arm_frame,\n",
    "                      upper_arm_mass, upper_arm_central_inertia)\n",
    "\n",
    "fore_arm = RigidBody('Upper Leg', fore_arm_mass_center, fore_arm_frame,\n",
    "                     fore_arm_mass, fore_arm_central_inertia)\n"
   ],
   "outputs": [],
   "metadata": {}
  },
  {
   "cell_type": "markdown",
   "source": [
    "# Kinetics"
   ],
   "metadata": {}
  },
  {
   "cell_type": "code",
   "execution_count": null,
   "source": [
    "# gravity\n",
    "g = symbols('g')\n",
    "upper_arm_grav = (upper_arm_mass_center,-upper_arm_mass * g * inertial_frame.y)\n",
    "\n",
    "fore_arm_grav = (fore_arm_mass_center,-fore_arm_mass * g * inertial_frame.y)\n",
    "\n",
    "# square wave\n"
   ],
   "outputs": [],
   "metadata": {}
  },
  {
   "cell_type": "code",
   "execution_count": null,
   "source": [
    "# joint torques\n",
    "\n",
    "shoulder_torque, elbow_torque = dynamicsymbols('T_s, T_e')\n",
    "\n",
    "upper_arm_torque = (upper_arm_frame,\n",
    "                    shoulder_torque * inertial_frame.z - elbow_torque *\n",
    "                    inertial_frame.z)\n",
    "\n",
    "fore_arm_torque = (fore_arm_frame,\n",
    "                    elbow_torque * inertial_frame.z)\n"
   ],
   "outputs": [],
   "metadata": {}
  },
  {
   "cell_type": "markdown",
   "source": [
    "# Equations of Motion"
   ],
   "metadata": {}
  },
  {
   "cell_type": "code",
   "execution_count": null,
   "source": [
    "from sympy.physics.mechanics import KanesMethod\n",
    "\n",
    "coordinates = [theta1, theta2]\n",
    "\n",
    "speeds = [omega1, omega2]\n",
    "\n",
    "kane = KanesMethod(inertial_frame,\n",
    "                   coordinates,\n",
    "                   speeds,\n",
    "                   kinematical_differential_equations)\n",
    "\n",
    "loads = [\n",
    "    upper_arm_grav,\n",
    "    fore_arm_grav,\n",
    "    upper_arm_torque,\n",
    "    fore_arm_torque]\n",
    "\n",
    "bodies = [upper_arm, fore_arm]\n",
    "\n",
    "fr, frstar = kane.kanes_equations(bodies, loads)\n",
    "\n",
    "mass_matrix = kane.mass_matrix_full\n",
    "forcing_vector = kane.forcing_full\n",
    "\n",
    "\n",
    "kane_sys = System(kane)\n",
    "\n",
    "upper_arm_radius_constant = 0.054\n",
    "upper_arm_mass_constant = 8.393\n",
    "fore_arm_length_constant = 0.392  # todo quick hack\n",
    "fore_arm_radius_constant = 0.060\n",
    "fore_arm_mass_constant = 2.275\n",
    "\n",
    "# https://github.com/ros-industrial/universal_robot/blob/kinetic-devel/ur_e_description/urdf/ur5e.urdf.xacro\n",
    "kane_sys.constants = {\n",
    "    upper_arm_length: 0.425,  # [m]\n",
    "    upper_arm_com_length: 0.2125,  # [m]\n",
    "    upper_arm_mass: 8.393,  # [kg]\n",
    "    # [kg*m^2]\n",
    "    upper_arm_inertia: 0.5 * upper_arm_mass_constant * upper_arm_radius_constant ** 2,\n",
    "    # fore_arm_length: 0.392,  # [m]\n",
    "    fore_arm_com_length: 0.11993,  # [m]\n",
    "    fore_arm_mass: fore_arm_mass_constant,  # [kg]\n",
    "    # [kg*m^2]\n",
    "    fore_arm_inertia: 0.5 * fore_arm_mass_constant * fore_arm_radius_constant ** 2,\n",
    "    g: 9.806\n",
    "}\n"
   ],
   "outputs": [],
   "metadata": {}
  },
  {
   "cell_type": "code",
   "execution_count": null,
   "source": [
    "kane_sys.constants"
   ],
   "outputs": [],
   "metadata": {}
  },
  {
   "cell_type": "markdown",
   "source": [
    "# Simulation"
   ],
   "metadata": {}
  },
  {
   "cell_type": "code",
   "execution_count": null,
   "source": [
    "kane_sys.times = np.linspace(0.0, 3.0, num=1000)\n",
    "kane_sys.initial_conditions = {\n",
    "                          theta1: 3.0,\n",
    "                          theta2: -1.0,\n",
    "                          omega1: 0.0,\n",
    "                          omega2: 0.0,\n",
    "                         }\n",
    "states = kane_sys.integrate()\n",
    "\n",
    "\n",
    "import matplotlib.pyplot as plt\n",
    "\n",
    "fig, ax = plt.subplots()\n",
    "ax.plot(kane_sys.times, states)\n",
    "ax.set_ylabel('States')\n",
    "ax.set_xlabel('Time (s)')\n",
    "ax.legend(['theta1', 'theta2', 'omega1', 'omega2'])\n",
    "plt.show()"
   ],
   "outputs": [],
   "metadata": {}
  },
  {
   "cell_type": "code",
   "execution_count": null,
   "source": [
    "from pydy.viz import Sphere, Cylinder, VisualizationFrame, Scene\n",
    "\n",
    "shoulder_shape = Cylinder(\n",
    "    name='shoulder', color='grey', radius=0.06, length=0.13)\n",
    "elbow_shape = Cylinder(name='elbow', color='grey', radius=0.06, length=0.13)\n",
    "\n",
    "shoulder_viz_frame = VisualizationFrame(\n",
    "    'shoulder', inertial_frame.orientnew('side', 'Axis', (pi/2, inertial_frame.x)), shoulder, shoulder_shape)\n",
    "elbow_viz_frame = VisualizationFrame(\n",
    "    'elbow', inertial_frame.orientnew('side', 'Axis', (pi/2, inertial_frame.x)), elbow, elbow_shape)\n",
    "\n",
    "upper_arm_center = Point('l_c')\n",
    "fore_arm_center = Point('u_c')\n",
    "\n",
    "\n",
    "upper_arm_center.set_pos(\n",
    "    shoulder, kane_sys.constants[upper_arm_length]/2 * upper_arm_frame.y)\n",
    "fore_arm_center.set_pos(elbow, fore_arm_length_constant/2 * fore_arm_frame.y)\n",
    "\n",
    "upper_arm_shape = Cylinder(name='upper arm',\n",
    "                        radius=upper_arm_radius_constant,\n",
    "                        length=kane_sys.constants[upper_arm_length],\n",
    "                        color='lightskyblue')\n",
    "\n",
    "fore_arm_shape = Cylinder(name='fore arm',\n",
    "                        radius=fore_arm_radius_constant,\n",
    "                        length=fore_arm_length_constant,\n",
    "                        color='lightskyblue')\n",
    "\n",
    "upper_arm_viz_frame = VisualizationFrame('Upper Arm', upper_arm_frame,\n",
    "                                        upper_arm_center, upper_arm_shape)\n",
    "\n",
    "fore_arm_viz_frame = VisualizationFrame('Fore Arm', fore_arm_frame,\n",
    "                                        fore_arm_center, fore_arm_shape)\n",
    "\n",
    "scene = Scene(inertial_frame, shoulder, system=kane_sys)\n",
    "\n",
    "scene.visualization_frames = [shoulder_viz_frame, elbow_viz_frame,\n",
    "                            upper_arm_viz_frame, fore_arm_viz_frame]\n",
    "\n",
    "scene.display_jupyter()\n",
    "    \n"
   ],
   "outputs": [],
   "metadata": {}
  },
  {
   "cell_type": "markdown",
   "source": [
    "# Open Loop"
   ],
   "metadata": {}
  },
  {
   "cell_type": "code",
   "execution_count": null,
   "source": [
    "from scipy import signal, interpolate\n",
    "\n",
    "import matplotlib.pyplot as plt\n",
    "\n",
    "t = kane_sys.times\n",
    "freq = 1.5  # Hz\n",
    "amp = 3\n",
    "center = 0.5\n",
    "square_wave_data = center + (amp / 2) * signal.square(2 * np.pi * freq * t)\n",
    "square_wave = interpolate.interp1d(t,square_wave_data, fill_value=\"extrapolate\")\n",
    "\n",
    "plt.plot(t, square_wave(t))\n",
    "\n",
    "plt.ylim(-2, 2)\n",
    "plt.title(\"1 Hz Square Wave\")\n"
   ],
   "outputs": [],
   "metadata": {}
  },
  {
   "cell_type": "code",
   "execution_count": null,
   "source": [
    "from scipy.integrate import odeint\n",
    "\n",
    "def controller(x, t):\n",
    "    T_s = -square_wave(t)\n",
    "    T_e = square_wave(t)\n",
    "    return (T_s, T_e) #u The specified inputs are, in order: T_s(t), T_e(t)\n",
    "\n",
    "y = odeint(kane_sys.generate_ode_function(), [3,-1,0,0], kane_sys.times, args=(controller,kane_sys.constants))\n",
    "\n",
    "plt.plot(kane_sys.times,y)\n",
    "plt.legend(kane_sys.states)\n",
    "plt.xlabel('time (s)')\n",
    "plt.ylabel('angle (rad,rad/s)')"
   ],
   "outputs": [],
   "metadata": {}
  },
  {
   "cell_type": "code",
   "execution_count": null,
   "source": [
    "scene = Scene(inertial_frame, shoulder)\n",
    "\n",
    "scene.visualization_frames = [shoulder_viz_frame, elbow_viz_frame,\n",
    "                            upper_arm_viz_frame, fore_arm_viz_frame]\n",
    "\n",
    "scene.states_symbols = coordinates + speeds\n",
    "scene.constants = kane_sys.constants\n",
    "scene.states_trajectories = y\n",
    "scene.times = kane_sys.times\n",
    "scene.display_jupyter()"
   ],
   "outputs": [],
   "metadata": {}
  },
  {
   "cell_type": "markdown",
   "source": [
    "# Controller Design"
   ],
   "metadata": {}
  },
  {
   "cell_type": "code",
   "execution_count": null,
   "source": [
    "# https://github.com/pydy/pydy-tutorial-human-standing/blob/master/notebooks/solution/control.py\n",
    "from numpy import zeros, ones, matrix, eye, dot, asarray, matmul\n",
    "from numpy.linalg import inv\n",
    "from scipy.linalg import solve_continuous_are\n",
    "\n",
    "equilibrium_point = zeros(len(coordinates + speeds))\n",
    "equilibrium_dict = dict(zip(coordinates + speeds, equilibrium_point))\n",
    "\n",
    "linear_state_matrix, linear_input_matrix, inputs = \\\n",
    "    kane.linearize(new_method=True, A_and_B=True)\n",
    "f_A_lin = linear_state_matrix.subs(kane_sys.constants).subs(equilibrium_dict)\n",
    "f_B_lin = linear_input_matrix.subs(kane_sys.constants).subs(equilibrium_dict)\n",
    "m_mat = mass_matrix.subs(kane_sys.constants).subs(equilibrium_dict)\n",
    "\n",
    "A = matrix(m_mat.inv() * f_A_lin).astype(float)\n",
    "B = matrix(m_mat.inv() * f_B_lin).astype(float)\n",
    "\n",
    "Q = matrix(eye(4))\n",
    "\n",
    "R = matrix(eye(2))\n",
    "\n",
    "S = solve_continuous_are(A, B, Q, R)\n",
    "\n",
    "K = inv(R) * B.T * S\n",
    "\n",
    "# This is an annoying little issue. We specified the order of things when\n",
    "# creating the rhs function, but the linearize function returns the F_B\n",
    "# matrix in the order corresponding to whatever order it finds the joint\n",
    "# torques. This would also screw things up if we specified a different\n",
    "# ordering of the coordinates and speeds as the standard kane._q + kane._u\n",
    "\n",
    "K = K[[1,0], :] # this is dumb haha\n",
    "\n",
    "C = np.hstack((eye((f_B_lin.shape[1])),zeros((f_B_lin.shape[1],f_B_lin.shape[1]))))\n",
    "\n",
    "D = zeros((f_B_lin.shape[1], f_B_lin.shape[1]))\n",
    "\n",
    "# N = (C(-A+BK)^-1 B)^-1\n",
    "Nbar = inv(matmul(matmul(C,inv(-A+matmul(B,K))),B))\n",
    "\n",
    "r = np.array([[0],[1]]) #two desired angles\n",
    "\n",
    "def controller(x, t):\n",
    "    u = asarray(np.add(-matmul(K, x), matmul(Nbar,r))).flatten()\n",
    "    # u = -asarray(dot(K,x)).flatten()\n",
    "    return u\n",
    "\n",
    "y = odeint(kane_sys.generate_ode_function(), [3,-1,0,0], kane_sys.times, args=(controller,kane_sys.constants))\n",
    "\n",
    "\n",
    "\n",
    "\n",
    "plt.plot(kane_sys.times,y)\n",
    "plt.legend(kane_sys.states)\n",
    "plt.xlabel('time (s)')\n",
    "plt.ylabel('angle (rad,rad/s)')"
   ],
   "outputs": [],
   "metadata": {}
  },
  {
   "cell_type": "code",
   "execution_count": null,
   "source": [
    "scene = Scene(inertial_frame, shoulder)\n",
    "\n",
    "scene.visualization_frames = [shoulder_viz_frame, elbow_viz_frame,\n",
    "                              upper_arm_viz_frame, fore_arm_viz_frame]\n",
    "\n",
    "scene.states_symbols = coordinates + speeds\n",
    "scene.constants = kane_sys.constants\n",
    "scene.states_trajectories = y\n",
    "scene.times = kane_sys.times\n",
    "scene.display_jupyter()"
   ],
   "outputs": [],
   "metadata": {}
  },
  {
   "cell_type": "code",
   "execution_count": null,
   "source": [
    "# exponential degradation\n",
    "# piecewise degradation modes\n",
    "# torque joint limits\n",
    "# 2 joints, 3 FM ea (100% 60% 30%)\n",
    "# just the torque data\n",
    "# can it lift the mass\n",
    "# add some noise\n",
    "# do with 5kg"
   ],
   "outputs": [],
   "metadata": {}
  },
  {
   "cell_type": "code",
   "execution_count": null,
   "source": [
    "np.max(np.abs(y))"
   ],
   "outputs": [],
   "metadata": {}
  },
  {
   "cell_type": "code",
   "execution_count": null,
   "source": [],
   "outputs": [],
   "metadata": {}
  }
 ],
 "metadata": {
  "interpreter": {
   "hash": "6ea1684d61f58d4faa6d8acc398a912e6b0ff560dee1a1b0b3b7baa5cc89abc3"
  },
  "kernelspec": {
   "name": "python385jvsc74a57bd06ea1684d61f58d4faa6d8acc398a912e6b0ff560dee1a1b0b3b7baa5cc89abc3",
   "display_name": "Python 3.8.5  ('.venv': venv)",
   "language": "python"
  },
  "language_info": {
   "codemirror_mode": {
    "name": "ipython",
    "version": 3
   },
   "file_extension": ".py",
   "mimetype": "text/x-python",
   "name": "python",
   "nbconvert_exporter": "python",
   "pygments_lexer": "ipython3",
   "version": "3.8.10"
  },
  "metadata": {
   "interpreter": {
    "hash": "6ea1684d61f58d4faa6d8acc398a912e6b0ff560dee1a1b0b3b7baa5cc89abc3"
   }
  },
  "orig_nbformat": 2
 },
 "nbformat": 4,
 "nbformat_minor": 2
}