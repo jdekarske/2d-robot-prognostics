{
 "metadata": {
  "language_info": {
   "codemirror_mode": {
    "name": "ipython",
    "version": 3
   },
   "file_extension": ".py",
   "mimetype": "text/x-python",
   "name": "python",
   "nbconvert_exporter": "python",
   "pygments_lexer": "ipython3",
   "version": "3.8.5"
  },
  "orig_nbformat": 2,
  "kernelspec": {
   "name": "python385jvsc74a57bd06ea1684d61f58d4faa6d8acc398a912e6b0ff560dee1a1b0b3b7baa5cc89abc3",
   "display_name": "Python 3.8.5  ('.venv': venv)"
  },
  "metadata": {
   "interpreter": {
    "hash": "6ea1684d61f58d4faa6d8acc398a912e6b0ff560dee1a1b0b3b7baa5cc89abc3"
   }
  }
 },
 "nbformat": 4,
 "nbformat_minor": 2,
 "cells": [
  {
   "source": [
    "# Robot Simulation\n",
    "This simulation is used for data generation for prognostic algorithm testing. The equations of motion are generated automatically using Kane's method via PyDy.\n",
    "\n",
    "A lot of the content here comes from [this](https://github.com/pydy/pydy-tutorial-human-standing) tutorial by Jason Moore but I'll leave out the learning and use different variable names."
   ],
   "cell_type": "markdown",
   "metadata": {}
  },
  {
   "cell_type": "code",
   "execution_count": 1,
   "metadata": {},
   "outputs": [],
   "source": [
    "from __future__ import print_function, division\n",
    "from sympy import symbols, simplify\n",
    "from sympy.physics.mechanics import dynamicsymbols, ReferenceFrame, Point\n",
    "from sympy.physics.vector import init_vprinting\n",
    "init_vprinting(use_latex='mathjax', pretty_print=False)"
   ]
  },
  {
   "source": [
    "# Reference Frames"
   ],
   "cell_type": "markdown",
   "metadata": {}
  },
  {
   "cell_type": "code",
   "execution_count": 2,
   "metadata": {},
   "outputs": [],
   "source": [
    "inertial_frame = ReferenceFrame('I')\n",
    "upper_arm_frame = ReferenceFrame('U')\n",
    "fore_arm_frame = ReferenceFrame('F')\n",
    "# theta1 - base, theta2 - elbow\n",
    "theta1, theta2 = dynamicsymbols('theta1, theta2')"
   ]
  },
  {
   "cell_type": "code",
   "execution_count": 5,
   "metadata": {},
   "outputs": [],
   "source": [
    "upper_arm_frame.orient(inertial_frame, 'Axis', (theta1, inertial_frame.z))\n",
    "fore_arm_frame.orient(upper_arm_frame, 'Axis' (theta2, upper_arm_frame.z))"
   ]
  },
  {
   "source": [
    "# Points"
   ],
   "cell_type": "markdown",
   "metadata": {}
  },
  {
   "cell_type": "code",
   "execution_count": 6,
   "metadata": {},
   "outputs": [],
   "source": [
    "# Joints\n",
    "shoulder = Point('A')\n",
    "upper_arm_length = symbols('l_U')\n",
    "\n",
    "elbow = Point('E')\n",
    "elbow.set_pos(shoulder, upper_arm_length * upper_arm_frame.y)\n",
    "\n",
    "end_effector = Point('EE')\n",
    "fore_arm_length = symbols('l_F')\n",
    "end_effector.set_pos(elbow, fore_arm_length * fore_arm_frame.y)"
   ]
  },
  {
   "cell_type": "code",
   "execution_count": 8,
   "metadata": {},
   "outputs": [],
   "source": [
    "# Center of Masses\n",
    "upper_arm_com_length, fore_arm_com_length = symbols('d_U, d_F')\n",
    "\n",
    "upper_arm_mass_center = Point('U_o')\n",
    "upper_arm_mass_center.set_pos(shoulder, upper_arm_com_length * upper_arm_frame.y)\n",
    "\n",
    "fore_arm_mass_center = Point('F_o')\n",
    "fore_arm_mass_center.set_pos(elbow, fore_arm_com_length * fore_arm_frame.y)"
   ]
  },
  {
   "source": [
    "# Kinematical Differential Equations"
   ],
   "cell_type": "markdown",
   "metadata": {}
  },
  {
   "cell_type": "code",
   "execution_count": null,
   "metadata": {},
   "outputs": [],
   "source": []
  }
 ]
}