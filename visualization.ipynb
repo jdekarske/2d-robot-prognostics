{
 "cells": [
  {
   "cell_type": "code",
   "execution_count": null,
   "source": [
    "import sympy as sm\n",
    "import matplotlib.pyplot as plt\n",
    "from pydy.viz import Sphere, Cylinder, VisualizationFrame, Scene\n",
    "from scipy.integrate import solve_ivp\n",
    "import numpy as np\n",
    "import copy\n",
    "\n",
    "from src.robotmodel import *"
   ],
   "outputs": [],
   "metadata": {}
  },
  {
   "cell_type": "markdown",
   "source": [
    "# Constants"
   ],
   "metadata": {}
  },
  {
   "cell_type": "code",
   "execution_count": null,
   "source": [
    "SIMULATION_TIME_STEP = 0.005\n",
    "\n",
    "upper_arm_radius_constant = 0.054\n",
    "upper_arm_mass_constant = 8.393\n",
    "fore_arm_length_constant = 0.392\n",
    "fore_arm_radius_constant = 0.060\n",
    "fore_arm_mass_constant = 2.275\n",
    "\n",
    "# https://github.com/ros-industrial/universal_robot/blob/kinetic-devel/ur_e_description/urdf/ur5e.urdf.xacro\n",
    "model_constants = {\n",
    "    upper_arm_length: 0.425,  # [m]\n",
    "    upper_arm_com_length: 0.2125,  # [m]\n",
    "    upper_arm_mass: upper_arm_mass_constant,  # [kg]\n",
    "    upper_arm_inertia: 0.5 * upper_arm_mass_constant * upper_arm_radius_constant ** 2, # [kg*m^2]\n",
    "    fore_arm_length: fore_arm_length_constant,  # [m]\n",
    "    end_effector_mass: 0, # [kg]\n",
    "    fore_arm_com_length: 0.11993,  # [m]\n",
    "    fore_arm_mass: fore_arm_mass_constant,  # [kg]\n",
    "    fore_arm_inertia: 0.5 * fore_arm_mass_constant * fore_arm_radius_constant ** 2, # [kg*m^2]\n",
    "    shoulder_degradation: 0, # not actually a rate, viscous \n",
    "    elbow_degradation: 0,\n",
    "    g: 0 #9.806\n",
    "}\n",
    "\n",
    "real_constants = copy.deepcopy(model_constants)\n",
    "\n",
    "real_constants.update({\n",
    "    shoulder_degradation: 1,\n",
    "    elbow_degradation: 1,\n",
    "    g: 9.806\n",
    "})\n",
    "\n",
    "model_sys = System(kane)\n",
    "model_sys.constants = model_constants\n",
    "model_sys.generate_ode_function()\n",
    "\n",
    "real_sys = System(kane)\n",
    "real_sys.constants = real_constants\n",
    "real_sys.generate_ode_function()"
   ],
   "outputs": [],
   "metadata": {}
  },
  {
   "cell_type": "markdown",
   "source": [
    "# Setup"
   ],
   "metadata": {}
  },
  {
   "cell_type": "code",
   "execution_count": null,
   "source": [
    "# Visualization\n",
    "shoulder_shape = Cylinder(\n",
    "    name='shoulder', color='grey', radius=0.06, length=0.13)\n",
    "elbow_shape = Cylinder(name='elbow', color='grey', radius=0.06, length=0.13)\n",
    "\n",
    "shoulder_viz_frame = VisualizationFrame(\n",
    "    'shoulder', inertial_frame.orientnew('side', 'Axis', (pi/2, inertial_frame.x)), shoulder, shoulder_shape)\n",
    "elbow_viz_frame = VisualizationFrame(\n",
    "    'elbow', inertial_frame.orientnew('side', 'Axis', (pi/2, inertial_frame.x)), elbow, elbow_shape)\n",
    "\n",
    "upper_arm_center = Point('l_c')\n",
    "fore_arm_center = Point('u_c')\n",
    "\n",
    "upper_arm_center.set_pos(\n",
    "    shoulder, model_sys.constants[upper_arm_length]/2 * upper_arm_frame.y)\n",
    "fore_arm_center.set_pos(elbow, fore_arm_length_constant/2 * fore_arm_frame.y)\n",
    "\n",
    "upper_arm_shape = Cylinder(name='upper arm',\n",
    "                           radius=upper_arm_radius_constant,\n",
    "                           length=model_sys.constants[upper_arm_length],\n",
    "                           color='lightskyblue')\n",
    "\n",
    "fore_arm_shape = Cylinder(name='fore arm',\n",
    "                          radius=fore_arm_radius_constant,\n",
    "                          length=fore_arm_length_constant,\n",
    "                          color='lightskyblue')\n",
    "\n",
    "upper_arm_viz_frame = VisualizationFrame('Upper Arm', upper_arm_frame,\n",
    "                                         upper_arm_center, upper_arm_shape)\n",
    "\n",
    "fore_arm_viz_frame = VisualizationFrame('Fore Arm', fore_arm_frame,\n",
    "                                        fore_arm_center, fore_arm_shape)"
   ],
   "outputs": [],
   "metadata": {}
  },
  {
   "cell_type": "code",
   "execution_count": null,
   "source": [
    "from src.controller import build_optimal_controller\n",
    "\n",
    "\n",
    "equilibrium_point = np.zeros(len(coordinates + speeds))\n",
    "equilibrium_dict = dict(zip(coordinates + speeds, equilibrium_point))\n",
    "\n",
    "r = np.array([[1], [1]])  # two desired angles\n",
    "\n",
    "K, Nbar = build_optimal_controller(kane, model_sys.constants, equilibrium_dict)\n",
    "\n",
    "fore_arm_grav_compensator = sm.lambdify(\n",
    "    [theta1, theta2], fore_arm_grav_compensation_expr.subs(real_sys.constants))\n",
    "upper_arm_grav_compensator = sm.lambdify(\n",
    "    [theta1, theta2], upper_arm_grav_compensation_expr.subs(real_sys.constants))\n",
    "\n",
    "def controller(x, t):\n",
    "    u = np.asarray(np.add(-np.matmul(K, x).reshape(2, 1),\n",
    "                          np.matmul(Nbar, r).reshape(2, 1))).flatten()\n",
    "    u[0] -= upper_arm_grav_compensator(x[0], x[1])\n",
    "    u[1] -= fore_arm_grav_compensator(x[0], x[1])\n",
    "    return u\n"
   ],
   "outputs": [],
   "metadata": {}
  },
  {
   "cell_type": "markdown",
   "source": [
    "# Single Movement"
   ],
   "metadata": {}
  },
  {
   "cell_type": "code",
   "execution_count": null,
   "source": [
    "simulation_time = 10\n",
    "times = np.arange(0.0, simulation_time, SIMULATION_TIME_STEP)\n",
    "\n",
    "sol = solve_ivp(lambda x, t, r, p: real_sys.evaluate_ode_function(t, x, r, p),\n",
    "                (times[0], times[-1]), [2, 2, 0, 0], method='LSODA', args=(controller, real_sys.constants))\n",
    "\n",
    "plt.plot(sol.t, np.transpose(sol.y))\n",
    "plt.legend(model_sys.states)\n",
    "plt.xlabel('time (s)')\n",
    "plt.ylabel('angle (rad,rad/s)')\n",
    "sol.y[:, -1]"
   ],
   "outputs": [],
   "metadata": {}
  },
  {
   "cell_type": "code",
   "execution_count": null,
   "source": [
    "scene = Scene(inertial_frame, shoulder)\n",
    "\n",
    "scene.visualization_frames = [shoulder_viz_frame, elbow_viz_frame,\n",
    "                              upper_arm_viz_frame, fore_arm_viz_frame]\n",
    "\n",
    "scene.states_symbols = coordinates + speeds\n",
    "scene.constants = model_sys.constants\n",
    "scene.states_trajectories = np.transpose(sol.y)\n",
    "scene.times = sol.t\n",
    "# scene.display_jupyter()"
   ],
   "outputs": [],
   "metadata": {}
  },
  {
   "cell_type": "markdown",
   "source": [
    "# Repeated Movement"
   ],
   "metadata": {}
  },
  {
   "cell_type": "code",
   "execution_count": null,
   "source": [
    "def full_simulation(chunks, chunk_time, desired_positions, shoulder_degradation_rate, elbow_degradation_rate):\n",
    "    chunk_times = np.arange(0.0, chunk_time, SIMULATION_TIME_STEP)\n",
    "\n",
    "    all_positions = np.tile(desired_positions, (1, chunks))\n",
    "\n",
    "    chunk_initial_conditions = np.vstack(\n",
    "        (desired_positions[:, -1].reshape(2,1), [[0], [0]]))  # and zero velocities\n",
    "\n",
    "    all_t = np.empty((chunk_times.size * chunks, 1)) # times\n",
    "    all_y = np.empty((chunk_times.size * chunks, 4))  # 4 states\n",
    "    all_command = np.empty((chunk_times.size * chunks, 2)) # 2 inputs\n",
    "\n",
    "    for i in range(chunks):\n",
    "        r = all_positions[:, i]\n",
    "        chunk_times = np.arange(chunk_time * i, chunk_time * (i+1), SIMULATION_TIME_STEP)\n",
    "        output_indices = np.array([0, chunk_times.size]) + chunk_times.size * i\n",
    "\n",
    "        # update model parameters\n",
    "        real_constants[elbow_degradation] = i*elbow_degradation_rate  # Increase degradation each chunk\n",
    "        real_constants[shoulder_degradation] = i*shoulder_degradation_rate # Increase degradation each chunk\n",
    "        real_sys = System(kane) # make a new system (because it is required when changing constants)\n",
    "        real_sys.constants = real_constants\n",
    "        real_sys.generate_ode_function()\n",
    "\n",
    "        def controller(x, t):\n",
    "            u = np.asarray(np.add(-np.matmul(K, x).reshape(2, 1),\n",
    "                                np.matmul(Nbar, r).reshape(2, 1))).flatten() # LQR Controller\n",
    "            u[0] -= upper_arm_grav_compensator(x[0], x[1]) # Gravity Compensation\n",
    "            u[1] -= fore_arm_grav_compensator(x[0], x[1]) # Gravity Compensation\n",
    "            return u\n",
    "\n",
    "        sol = solve_ivp(lambda x, t, r, p: real_sys.evaluate_ode_function(t, x, r, p),\n",
    "                        (chunk_times[0], chunk_times[-1]), chunk_initial_conditions.flatten(), method='LSODA', t_eval=chunk_times, args=(controller, real_sys.constants))\n",
    "\n",
    "        all_t[output_indices[0]:output_indices[1],:] = sol.t.reshape(sol.t.size,1)\n",
    "        all_y[output_indices[0]:output_indices[1],:] = np.transpose(sol.y)\n",
    "        \n",
    "        commands = np.apply_along_axis(lambda a: controller(a,0), 1, np.transpose(sol.y))\n",
    "        all_command[output_indices[0]:output_indices[1],:] = commands\n",
    "\n",
    "        chunk_initial_conditions = sol.y[:, -1]\n",
    "\n",
    "    return (all_t, all_y, all_command)\n",
    "\n",
    "\n",
    "#######################\n",
    "\n",
    "all_t, all_y, all_command = full_simulation(100, 4, np.deg2rad(np.array([[30, 45], [45, 90]])), 0.1, 0.2)\n",
    "\n",
    "plt.plot(all_t, all_y)\n",
    "plt.legend(model_sys.states)\n",
    "plt.xlabel('time (s)')\n",
    "plt.ylabel('angle (rad,rad/s)')\n",
    "sol.y[:, -1]\n",
    "\n",
    "#If this takes more than 10s, restart the kernel (help!)"
   ],
   "outputs": [],
   "metadata": {}
  },
  {
   "cell_type": "code",
   "execution_count": null,
   "source": [
    "plt.plot(all_t, all_command)\n",
    "plt.legend(model_sys.specifieds_symbols)\n",
    "plt.xlabel('time (s)')\n",
    "plt.ylabel('torque (Nm)')\n",
    "sol.y[:, -1]"
   ],
   "outputs": [],
   "metadata": {}
  },
  {
   "cell_type": "code",
   "execution_count": null,
   "source": [
    "scene = Scene(inertial_frame, shoulder)\n",
    "\n",
    "scene.visualization_frames = [shoulder_viz_frame, elbow_viz_frame,\n",
    "                              upper_arm_viz_frame, fore_arm_viz_frame]\n",
    "\n",
    "scene.states_symbols = coordinates + speeds\n",
    "scene.constants = model_sys.constants\n",
    "scene.states_trajectories = all_y\n",
    "scene.times = all_t\n",
    "# scene.display_jupyter()"
   ],
   "outputs": [],
   "metadata": {}
  },
  {
   "cell_type": "markdown",
   "source": [
    "# Add noise"
   ],
   "metadata": {}
  },
  {
   "cell_type": "code",
   "execution_count": null,
   "source": [
    "signal_range = np.min(np.ptp(all_y[:,:2], axis=0))\n",
    "random_addition = np.random.normal(0,signal_range/1000, all_y.shape)\n",
    "noise_y = all_y + random_addition\n",
    "\n",
    "plt.plot(all_t, noise_y)\n",
    "plt.legend(model_sys.states)\n",
    "plt.xlabel('time (s)')\n",
    "plt.ylabel('angle (rad,rad/s)')\n",
    "sol.y[:, -1]"
   ],
   "outputs": [],
   "metadata": {}
  },
  {
   "cell_type": "markdown",
   "source": [
    "# Save the data"
   ],
   "metadata": {}
  },
  {
   "cell_type": "code",
   "execution_count": null,
   "source": [
    "elbow_degradations = [0.1, 0.4, 0.9]\n",
    "shoulder_degradations = [0.1, 0.4, 0.9]\n",
    "\n",
    "for elbow_deg in elbow_degradations:\n",
    "    for shoulder_deg in shoulder_degradations:\n",
    "        all_t, all_y, all_command = full_simulation(100, 4, np.deg2rad(np.array([[30, 45], [45, 90]])), shoulder_deg, elbow_deg)\n",
    "        \n",
    "        signal_range = np.min(np.ptp(all_y[:,:2], axis=0))\n",
    "        random_addition = np.random.normal(0,signal_range/1000, all_y.shape)\n",
    "        noise_y = all_y + random_addition\n",
    "\n",
    "        np.savetxt(\"shoulder{:d}-elbow{:d}.csv\".format(int(shoulder_deg*100),int(elbow_deg*100)),np.hstack((all_t, all_y, all_command)), fmt='%2.5f')\n",
    "\n",
    "with open(\"header.txt\", \"w\") as text_file:\n",
    "    text_file.write(\"time\\ttheta1\\ttheta2\\tomega1\\tomega2\\ttorque1\\ttorque2\")"
   ],
   "outputs": [],
   "metadata": {}
  }
 ],
 "metadata": {
  "orig_nbformat": 4,
  "language_info": {
   "name": "python",
   "version": "3.8.10",
   "mimetype": "text/x-python",
   "codemirror_mode": {
    "name": "ipython",
    "version": 3
   },
   "pygments_lexer": "ipython3",
   "nbconvert_exporter": "python",
   "file_extension": ".py"
  },
  "kernelspec": {
   "name": "python3",
   "display_name": "Python 3.8.10 64-bit ('.venv': venv)"
  },
  "interpreter": {
   "hash": "6ea1684d61f58d4faa6d8acc398a912e6b0ff560dee1a1b0b3b7baa5cc89abc3"
  }
 },
 "nbformat": 4,
 "nbformat_minor": 2
}